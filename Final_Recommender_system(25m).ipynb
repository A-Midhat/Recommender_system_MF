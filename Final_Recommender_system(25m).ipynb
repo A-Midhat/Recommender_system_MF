{
  "cells": [
    {
      "cell_type": "markdown",
      "metadata": {
        "id": "view-in-github",
        "colab_type": "text"
      },
      "source": [
        "<a href=\"https://colab.research.google.com/github/A-Midhat/Recommender_system_MF/blob/main/Final_Recommender_system(25m).ipynb\" target=\"_parent\"><img src=\"https://colab.research.google.com/assets/colab-badge.svg\" alt=\"Open In Colab\"/></a>"
      ]
    },
    {
      "cell_type": "markdown",
      "source": [
        "#Part1"
      ],
      "metadata": {
        "id": "IPCW3H5WnST7"
      }
    },
    {
      "cell_type": "markdown",
      "source": [
        "##Downloading the Movielens 32m dataset"
      ],
      "metadata": {
        "id": "NDBhUJZOtf_I"
      }
    },
    {
      "cell_type": "code",
      "execution_count": 11,
      "metadata": {
        "id": "H3tmIhGtns_u",
        "collapsed": true,
        "colab": {
          "base_uri": "https://localhost:8080/"
        },
        "outputId": "dc73d9f4-6713-4292-b94e-7d80fee67c79"
      },
      "outputs": [
        {
          "output_type": "stream",
          "name": "stdout",
          "text": [
            "--2024-10-31 20:09:59--  https://files.grouplens.org/datasets/movielens/ml-25m.zip\n",
            "Resolving files.grouplens.org (files.grouplens.org)... 128.101.65.152\n",
            "Connecting to files.grouplens.org (files.grouplens.org)|128.101.65.152|:443... connected.\n",
            "HTTP request sent, awaiting response... 200 OK\n",
            "Length: 261978986 (250M) [application/zip]\n",
            "Saving to: ‘ml-25m.zip’\n",
            "\n",
            "ml-25m.zip          100%[===================>] 249.84M  58.8MB/s    in 4.7s    \n",
            "\n",
            "2024-10-31 20:10:04 (53.1 MB/s) - ‘ml-25m.zip’ saved [261978986/261978986]\n",
            "\n",
            "Archive:  ml-25m.zip\n",
            "   creating: ml-25m/\n",
            "  inflating: ml-25m/tags.csv         \n",
            "  inflating: ml-25m/links.csv        \n",
            "  inflating: ml-25m/README.txt       \n",
            "  inflating: ml-25m/ratings.csv      \n",
            "  inflating: ml-25m/genome-tags.csv  \n",
            "  inflating: ml-25m/genome-scores.csv  \n",
            "  inflating: ml-25m/movies.csv       \n"
          ]
        }
      ],
      "source": [
        "!wget https://files.grouplens.org/datasets/movielens/ml-25m.zip\n",
        "!unzip ml-25m.zip"
      ]
    },
    {
      "cell_type": "code",
      "source": [
        "# !wget https://files.grouplens.org/datasets/movielens/ml-latest-small.zip\n",
        "# !unzip ml-latest-small.zip"
      ],
      "metadata": {
        "id": "ncvIvC4sBJ0f"
      },
      "execution_count": 3,
      "outputs": []
    },
    {
      "cell_type": "markdown",
      "source": [
        "##Import libs"
      ],
      "metadata": {
        "id": "jO-eDSWUtphQ"
      }
    },
    {
      "cell_type": "code",
      "execution_count": 12,
      "metadata": {
        "id": "zrI34FVToDzL"
      },
      "outputs": [],
      "source": [
        "import pandas as pd\n",
        "import numpy as np\n",
        "import matplotlib.pyplot as plt\n",
        "import itertools\n",
        "from collections import Counter\n"
      ]
    },
    {
      "cell_type": "markdown",
      "source": [
        "##Creating sub dataset of 100k"
      ],
      "metadata": {
        "id": "HDdraXcktrnB"
      }
    },
    {
      "cell_type": "code",
      "source": [],
      "metadata": {
        "id": "AgNt7-EB1UVw"
      },
      "execution_count": 4,
      "outputs": []
    },
    {
      "cell_type": "code",
      "source": [
        "ratings = pd.read_csv(\"/content/ml-25m/ratings.csv\")\n",
        "# ratings.head()\n"
      ],
      "metadata": {
        "id": "0Wn0xVG1BgLf"
      },
      "execution_count": 13,
      "outputs": []
    },
    {
      "cell_type": "markdown",
      "source": [
        "##Processing the dataset of 100k"
      ],
      "metadata": {
        "id": "BaDUueWJtwN-"
      }
    },
    {
      "cell_type": "code",
      "execution_count": 14,
      "metadata": {
        "id": "Slqi0V0SpdT6"
      },
      "outputs": [],
      "source": [
        "with open(\"/content/ml-25m/ratings.csv\", \"r\") as file:\n",
        "  next(file)\n",
        "  ratings_data = []\n",
        "  for line in file:\n",
        "    fields = line.strip().split(\",\")\n",
        "    user_id = int(fields[0])\n",
        "    movie_id = int(fields[1])\n",
        "    rating = float(fields[2])\n",
        "    ts = fields[3]\n",
        "\n",
        "    ratings_data.append((user_id, movie_id, rating, ts))"
      ]
    },
    {
      "cell_type": "markdown",
      "source": [
        "##Mapping users ids into indices and vise versa"
      ],
      "metadata": {
        "id": "vEzkyo4rt18o"
      }
    },
    {
      "cell_type": "code",
      "execution_count": 15,
      "metadata": {
        "id": "djmHQZh0p6gr"
      },
      "outputs": [],
      "source": [
        "user_to_id, id_to_user = {}, []  # Maps user IDs <-> indices\n",
        "movie_to_id, id_to_movie = {}, []  # Maps movie IDs <-> indices\n",
        "\n",
        "# Map unique user IDs to indices\n",
        "for userid, _, _, _ in ratings_data:\n",
        "    if userid not in user_to_id:\n",
        "        user_to_id[userid] = len(user_to_id)\n",
        "        id_to_user.append(userid)\n",
        "\n",
        "# Map unique movie IDs to indices\n",
        "for _, movieid, _, _ in ratings_data:\n",
        "    if movieid not in movie_to_id:\n",
        "        movie_to_id[movieid] = len(movie_to_id)\n",
        "        id_to_movie.append(movieid)\n"
      ]
    },
    {
      "cell_type": "code",
      "source": [
        "len(id_to_user), len(id_to_movie)"
      ],
      "metadata": {
        "colab": {
          "base_uri": "https://localhost:8080/"
        },
        "id": "T89cLzuu2CVQ",
        "outputId": "6b5a8f2b-185a-457a-d368-e265fb78f818"
      },
      "execution_count": 8,
      "outputs": [
        {
          "output_type": "execute_result",
          "data": {
            "text/plain": [
              "(162541, 59047)"
            ]
          },
          "metadata": {},
          "execution_count": 8
        }
      ]
    },
    {
      "cell_type": "markdown",
      "source": [
        "##Creating ds for users/movies containg a list of all users/movies and there movies_ids/user_ids and ratings"
      ],
      "metadata": {
        "id": "F54K00ueu_4K"
      }
    },
    {
      "cell_type": "code",
      "source": [
        "# Total numbers of users/movies\n",
        "M = len(id_to_user)\n",
        "N = len(id_to_movie)\n",
        "\n",
        "users_data = [[] for _ in range(M)]\n",
        "movies_data = [[] for _ in range(N)]\n",
        "\n",
        "for user_id, movie_id, rating, _ in ratings_data:\n",
        "  user_index = user_to_id[user_id]\n",
        "  users_data[user_index].append((movie_id, rating))\n",
        "\n",
        "  movie_index = movie_to_id[movie_id]\n",
        "  movies_data[movie_index].append((user_id, rating))\n"
      ],
      "metadata": {
        "id": "BJ0h_tAhnt_O"
      },
      "execution_count": 16,
      "outputs": []
    },
    {
      "cell_type": "code",
      "source": [
        "M"
      ],
      "metadata": {
        "id": "iYrsZcILWjM6",
        "outputId": "e3e56b5e-7316-4843-cdaf-841e0d1e2304",
        "colab": {
          "base_uri": "https://localhost:8080/"
        }
      },
      "execution_count": 10,
      "outputs": [
        {
          "output_type": "execute_result",
          "data": {
            "text/plain": [
              "162541"
            ]
          },
          "metadata": {},
          "execution_count": 10
        }
      ]
    },
    {
      "cell_type": "markdown",
      "source": [
        "##power law plot"
      ],
      "metadata": {
        "id": "NU12drxrv3Ri"
      }
    },
    {
      "cell_type": "code",
      "source": [
        "# ratings_list = [len(movie_data) for movie_id, movie_data in enumerate(movies_data)]\n",
        "\n",
        "# ratings_list_dict = Counter(ratings_list)\n",
        "\n",
        "# plt.loglog(ratings_list_dict.keys(), ratings_list_dict.values(), \".\")\n",
        "# plt.ylabel(\"Frequency\")\n",
        "# plt.xlabel(\"Rank\")\n",
        "# plt.title(\"Power Law Distribution of Movie Ratings\")\n",
        "# plt.show()"
      ],
      "metadata": {
        "id": "wx6HryYNn354",
        "colab": {
          "base_uri": "https://localhost:8080/",
          "height": 476
        },
        "outputId": "5b6bc33e-880c-48e0-8b3a-8cd2eaa756a1"
      },
      "execution_count": 11,
      "outputs": [
        {
          "output_type": "display_data",
          "data": {
            "text/plain": [
              "<Figure size 640x480 with 1 Axes>"
            ],
            "image/png": "[encoded data removed]"
          },
          "metadata": {}
        }
      ]
    },
    {
      "cell_type": "markdown",
      "source": [
        "#Part2"
      ],
      "metadata": {
        "id": "-_WZsz4VciUK"
      }
    },
    {
      "cell_type": "markdown",
      "source": [
        "##train_test_Split()"
      ],
      "metadata": {
        "id": "ahHk9kHiqlGH"
      }
    },
    {
      "cell_type": "code",
      "source": [
        "def split(users_data, movies_data, test_ratio=0.1):\n",
        "    M = len(users_data)\n",
        "    N = len(movies_data)\n",
        "\n",
        "    users_data_train = [[] for _ in range(M)]\n",
        "    users_data_test = [[] for _ in range(M)]\n",
        "    movies_data_train = [[] for _ in range(N)]\n",
        "    movies_data_test = [[] for _ in range(N)]\n",
        "\n",
        "    for user_id, user_data in enumerate(users_data):\n",
        "        for movie_rating in user_data:\n",
        "            rand_val = np.random.rand()\n",
        "            if rand_val > test_ratio:\n",
        "                # Train set\n",
        "                users_data_train[user_id].append(movie_rating)\n",
        "\n",
        "                # placeholder for missing test entries\n",
        "                users_data_test[user_id].append(())\n",
        "            else:\n",
        "                # Test set\n",
        "                users_data_test[user_id].append(movie_rating)\n",
        "\n",
        "                # placeholder for missing train entries\n",
        "                users_data_train[user_id].append(())\n",
        "\n",
        "    for movie_id, movie_row in enumerate(movies_data):\n",
        "      for user_rating in movie_row:\n",
        "        rand_val = np.random.rand()\n",
        "        if rand_val>test_ratio:\n",
        "          movies_data_train[movie_id].append(user_rating)\n",
        "          movies_data_test[movie_id].append(())\n",
        "        else:\n",
        "          movies_data_test[movie_id].append(user_rating)\n",
        "          movies_data_train[movie_id].append(())\n",
        "    return users_data_train, users_data_test, movies_data_train, movies_data_test\n"
      ],
      "metadata": {
        "id": "szBxtIeLn83v"
      },
      "execution_count": 17,
      "outputs": []
    },
    {
      "cell_type": "markdown",
      "source": [
        "##Initializing biases with zeros"
      ],
      "metadata": {
        "id": "V-EvS4cUqrCj"
      }
    },
    {
      "cell_type": "code",
      "source": [
        "# init biases\n",
        "def init_biases(users_data, movies_data):\n",
        "  user_biases = np.zeros(len(users_data))\n",
        "  movie_biases= np.zeros(len(movies_data))\n",
        "  return user_biases, movie_biases\n"
      ],
      "metadata": {
        "id": "pRUt2vuhpz5c"
      },
      "execution_count": 18,
      "outputs": []
    },
    {
      "cell_type": "markdown",
      "source": [
        "##User bisaes update functions"
      ],
      "metadata": {
        "id": "zJB16BRTqwxf"
      }
    },
    {
      "cell_type": "code",
      "source": [
        "# def update_user_biases(user_id, data_by_user, b_user, b_movie, lambda_, gamma):\n",
        "#   no_movies_rated_by_user = 0 # 1\n",
        "#   num = 0\n",
        "#   for entry in data_by_user[user_id]:\n",
        "#     if len(entry)==2:\n",
        "#       no_movies_rated_by_user = no_movies_rated_by_user + 1\n",
        "\n",
        "#       movie_id, ratings= entry\n",
        "\n",
        "#       movie_index = movie_to_id[movie_id]\n",
        "\n",
        "#       num+=(ratings - b_movie[movie_index])\n",
        "#     else:\n",
        "#       continue\n",
        "#   dom = (lambda_*no_movies_rated_by_user)+ gamma\n",
        "\n",
        "#   b_user[user_id] = lambda_*(num/dom)\n",
        "\n",
        "\n",
        "\n",
        "# def update_all_user_biases(data_by_user, b_user, b_movie, lambda_, gamma):\n",
        "#   for user_id in range(len(data_by_user)):\n",
        "#     update_user_biases(user_id, data_by_user, b_user, b_movie, lambda_, gamma)\n",
        "#   return b_user"
      ],
      "metadata": {
        "id": "kawJQKUZriyF"
      },
      "execution_count": 19,
      "outputs": []
    },
    {
      "cell_type": "code",
      "source": [
        "# so at each one iteration it updates user_m and U[m] only and then it goes to tthe next user\n",
        "def update_user_biases(user_id, users_data, user_biases, movie_biases, lambda_=0.1, gamma=0.01 ):\n",
        "\n",
        "  # for user_id, user_data in enumerate(users_data):\n",
        "    n = 0 # Number of movies rated by user\n",
        "    error = 0\n",
        "    for movie_rating in users_data[user_id]:\n",
        "      if movie_rating: # empty\n",
        "\n",
        "        n +=1\n",
        "        movie_id, rating = movie_rating\n",
        "        movie_index = movie_to_id[movie_id]\n",
        "        error+=(rating - movie_biases[movie_index])\n",
        "\n",
        "    regularization_term = (lambda_*n)+ gamma\n",
        "    user_biases[user_id] = lambda_*(error/regularization_term)\n",
        "  # return user_biases"
      ],
      "metadata": {
        "id": "DOCG2daX2EXp"
      },
      "execution_count": 20,
      "outputs": []
    },
    {
      "cell_type": "markdown",
      "source": [
        "##Movies bisaes update functions"
      ],
      "metadata": {
        "id": "RrZZOjt9q2Ky"
      }
    },
    {
      "cell_type": "code",
      "source": [
        "# def update_movie_biases(movie_id, data_by_movie, b_user, b_movie, lambda_, gamma):\n",
        "#   no_users_rated_movie = 0\n",
        "#   num = 0\n",
        "#   for entry in data_by_movie[movie_id]: # how to handle empty tuples ???\n",
        "#     if len(entry)==2:\n",
        "#       no_users_rated_movie = no_users_rated_movie + 1\n",
        "#       user_id, ratings = entry\n",
        "#       num+=(ratings - b_user[user_to_id[user_id]]) #**user_to_id[user_id]** calc numerator # fixed by mapping large mid to simpler mid (movie_to_id)\n",
        "#     else:\n",
        "#       continue\n",
        "#   dom = (lambda_*no_users_rated_movie)+ gamma\n",
        "\n",
        "#   b_movie[movie_id] = lambda_*(num/dom)\n",
        "\n",
        "# def update_all_movie_biases(data_by_movie, b_user, b_movie, lambda_, gamma):\n",
        "#   for movie_id in range(len(data_by_movie)):\n",
        "#     update_movie_biases(movie_id, data_by_movie, b_user, b_movie, lambda_, gamma)\n",
        "\n",
        "#   return b_movie"
      ],
      "metadata": {
        "id": "4D4lgT9F4NfA"
      },
      "execution_count": 21,
      "outputs": []
    },
    {
      "cell_type": "code",
      "source": [
        "def update_movie_biases(movie_id, movies_data, user_biases, movie_biases, lambda_=0.1, gamma=0.01 ):\n",
        "\n",
        "  # for movie_id, movie_data in enumerate(movies_data):\n",
        "    m = 0 # Number of users rated this movie\n",
        "    error = 0\n",
        "    for user_rating in movies_data[movie_id]:\n",
        "      if user_rating: # empty\n",
        "\n",
        "        m +=1\n",
        "        user_id, rating = user_rating\n",
        "        user_index = user_to_id[user_id]\n",
        "        error+=(rating - user_biases[user_index])\n",
        "\n",
        "    regularization_term = (lambda_*m)+ gamma\n",
        "    movie_biases[movie_id] = lambda_*(error/regularization_term)\n",
        "  # return movie_biases\n"
      ],
      "metadata": {
        "id": "YMJt4GRSrbV4"
      },
      "execution_count": 22,
      "outputs": []
    },
    {
      "cell_type": "markdown",
      "source": [
        "##Calculating Loss"
      ],
      "metadata": {
        "id": "LDaIjkoJQVmQ"
      }
    },
    {
      "cell_type": "code",
      "source": [
        "def calc_loss(users_data, user_biases, movie_biases, lambda_=0.1, gamma=0.1):\n",
        "  total_loss = 0\n",
        "  for user_id in range(len(users_data)):\n",
        "    for movie_rating in users_data[user_id]:\n",
        "      # Check for non-empty entries\n",
        "      if movie_rating:\n",
        "        movie_id , rating = movie_rating\n",
        "        movie_index = movie_to_id[movie_id]\n",
        "        predicted_rating = user_biases[user_id] + movie_biases[movie_index]\n",
        "        total_loss += (rating - predicted_rating)**2\n",
        "\n",
        "  # Regularization terms\n",
        "  user_bias_sum = np.dot(user_biases, user_biases)\n",
        "  movie_bias_sum= np.dot(movie_biases, movie_biases)\n",
        "  total_loss = lambda_*total_loss + gamma*user_bias_sum + gamma*movie_bias_sum\n",
        "\n",
        "  return 0.5*total_loss"
      ],
      "metadata": {
        "id": "DPIuBhYnrqRE"
      },
      "execution_count": 18,
      "outputs": []
    },
    {
      "cell_type": "markdown",
      "source": [
        "##RMSE B only"
      ],
      "metadata": {
        "id": "-VgUhOroGv28"
      }
    },
    {
      "cell_type": "code",
      "source": [
        "def calc_rmse(users_data, user_biases, movie_biases):\n",
        "  error = 0\n",
        "  count = 0\n",
        "  for user_id in range(len(users_data)):\n",
        "    for movie_rating in users_data[user_id]:\n",
        "      # Check for non-empty entries\n",
        "      if movie_rating:\n",
        "        movie_id , rating = movie_rating\n",
        "        movie_index = movie_to_id[movie_id]\n",
        "\n",
        "        predicted_rating = user_biases[user_id] +  movie_biases[movie_index]\n",
        "        error += (rating - predicted_rating)**2\n",
        "        # Increment count of valid ratings\n",
        "        count+=1\n",
        "  rmse =  np.sqrt(error/count)\n",
        "  return rmse\n",
        "\n"
      ],
      "metadata": {
        "id": "rQ5DjGCmKb2w"
      },
      "execution_count": 19,
      "outputs": []
    },
    {
      "cell_type": "markdown",
      "source": [
        "##Training the Model"
      ],
      "metadata": {
        "id": "3RX6TTiLq595"
      }
    },
    {
      "cell_type": "code",
      "source": [
        "# def train_model(users_data_train, users_data_test, movies_data_train, movies_data_test, num_iterations, lambda_=0.1, gamma=0.1):\n",
        "#       losses_list, rmse_train_list, rmse_test_list  = [], [], []\n",
        "\n",
        "#       user_biases, movie_biases = init_biases(users_data_train, movies_data_train)\n",
        "#       # user_biases, movie_biases = user_biases_init, movie_biases_init\n",
        "\n",
        "#       for i in range(num_iterations):\n",
        "#         # Update user/movie biases\n",
        "#         update_user_biases(users_data_train, user_biases, movie_biases, lambda_, gamma)\n",
        "#         update_movie_biases(movies_data_train, user_biases, movie_biases, lambda_, gamma)\n",
        "\n",
        "#         # Calculate loss and RMSE values\n",
        "#         loss = calc_loss(users_data_train, user_biases, movie_biases, lambda_, gamma)\n",
        "#         rmse_train = calc_rmse(users_data_train, user_biases, movie_biases)\n",
        "#         rmse_test = calc_rmse(users_data_test, user_biases, movie_biases)\n",
        "\n",
        "#         # Store values in thier respective lists\n",
        "#         losses_list.append(loss)\n",
        "#         rmse_train_list.append(rmse_train)\n",
        "#         rmse_test_list.append(rmse_test)\n",
        "\n",
        "#         # Print progress\n",
        "#         print(f\"Iteraation: ({i+1}/{num_iterations})\")\n",
        "#         print(f\"Loss: ==> {loss}, RMSE (Train):==> {rmse_train}, RMSE (Test):==> {rmse_test}\")\n",
        "\n",
        "\n",
        "#       return losses_list, rmse_train_list, rmse_test_list, user_biases, movie_biases\n",
        "\n",
        "def train_model(users_data, movies_data, num_iterations, lambda_=0.1, gamma=0.1):\n",
        "\n",
        "      users_data_train, users_data_test, movies_data_train, movies_data_test = split(users_data, movies_data)\n",
        "\n",
        "      losses_list, rmse_train_list, rmse_test_list  = [], [], []\n",
        "      user_biases, movie_biases = init_biases(users_data_train, movies_data_train)\n",
        "      # user_biases, movie_biases = user_biases_init, movie_biases_init\n",
        "\n",
        "      for i in range(num_iterations):\n",
        "        # Update user/movie biases\n",
        "        for user_id in range(len(users_data_train)):\n",
        "            update_user_biases(user_id ,users_data_train, user_biases, movie_biases, lambda_, gamma)\n",
        "\n",
        "        for movie_id in range(len(movies_data_train)):\n",
        "            update_movie_biases(movie_id, movies_data_train, user_biases, movie_biases, lambda_, gamma)\n",
        "\n",
        "        # Calculate loss and RMSE values\n",
        "        loss = calc_loss(users_data_train, user_biases, movie_biases, lambda_, gamma)\n",
        "        rmse_train = calc_rmse(users_data_train, user_biases, movie_biases)\n",
        "        rmse_test = calc_rmse(users_data_test, user_biases, movie_biases)\n",
        "\n",
        "        # Store values in thier respective lists\n",
        "        losses_list.append(loss)\n",
        "        rmse_train_list.append(rmse_train)\n",
        "        rmse_test_list.append(rmse_test)\n",
        "\n",
        "        # Print progress\n",
        "        print(f\"Iteraation: ({i+1}/{num_iterations})\")\n",
        "        print(f\"Loss: ==> {loss}, RMSE (Train):==> {rmse_train}, RMSE (Test):==> {rmse_test}\")\n",
        "\n",
        "\n",
        "      return losses_list, rmse_train_list, rmse_test_list, user_biases, movie_biases\n",
        "\n",
        "\n"
      ],
      "metadata": {
        "id": "5pjqSyrd8KOf"
      },
      "execution_count": 20,
      "outputs": []
    },
    {
      "cell_type": "markdown",
      "source": [
        "##Splitting the data"
      ],
      "metadata": {
        "id": "47V2eJDytE42"
      }
    },
    {
      "cell_type": "markdown",
      "source": [
        "##Train and validate the biases-only model"
      ],
      "metadata": {
        "id": "cAQpzbm1Jgy4"
      }
    },
    {
      "cell_type": "markdown",
      "source": [
        "##Try 1"
      ],
      "metadata": {
        "id": "vEajDx5SeVU6"
      }
    },
    {
      "cell_type": "markdown",
      "source": [
        "### try 1:"
      ],
      "metadata": {
        "id": "aXDBtMEWcfO0"
      }
    },
    {
      "cell_type": "code",
      "source": [
        "# num_iterations = 40\n",
        "# gamma = 0.001 #0.001\n",
        "# lambda_ = 0.01 #0.01\n",
        "# losses, rmse_train, rmse_test, user_biases, movie_biases = train_model(users_data, movies_data, 10, lambda_, gamma)\n"
      ],
      "metadata": {
        "id": "yMapDRQCne5E"
      },
      "execution_count": 21,
      "outputs": []
    },
    {
      "cell_type": "markdown",
      "source": [
        "###Plot Loss and RMSE of biases-only model"
      ],
      "metadata": {
        "id": "xL2RUro-svxm"
      }
    },
    {
      "cell_type": "code",
      "source": [
        "# # Set up the figure and axes\n",
        "# plt.figure(figsize=(10, 5))\n",
        "\n",
        "# # Plot for Losses\n",
        "# plt.subplot(1, 2, 1)\n",
        "# plt.plot(losses, label='Losses')\n",
        "# plt.xlabel(\"Iterations\")\n",
        "# plt.ylabel(\"Loss\")\n",
        "# plt.title(\"Loss per Iteration\")\n",
        "# plt.grid(True)\n",
        "# plt.legend()\n",
        "\n",
        "# # Plot for RMSE\n",
        "# plt.subplot(1, 2, 2)\n",
        "# plt.plot(rmse_train, label=\"RMSE Train\")\n",
        "# plt.plot(rmse_test, label=\"RMSE Test\")\n",
        "# plt.xlabel(\"Iterations\")\n",
        "# plt.ylabel(\"RMSE\")\n",
        "# plt.title(\"RMSE per Iteration\")\n",
        "# plt.grid(True)\n",
        "# plt.legend()\n",
        "\n",
        "\n",
        "\n",
        "# plt.show()\n"
      ],
      "metadata": {
        "id": "zQpzk43JsxvZ"
      },
      "execution_count": 22,
      "outputs": []
    },
    {
      "cell_type": "markdown",
      "source": [
        "##try 2:"
      ],
      "metadata": {
        "id": "Jz32RBzQczns"
      }
    },
    {
      "cell_type": "code",
      "source": [
        "# num_iterations = 40\n",
        "# gamma = 0.01 #0.001\n",
        "# lambda_ = 0.01 #0.01\n",
        "# losses, rmse_train, rmse_test, user_biases, movie_biases = train_model(users_data, movies_data, 10, lambda_, gamma)\n"
      ],
      "metadata": {
        "id": "_rItTFYFc1mP"
      },
      "execution_count": 23,
      "outputs": []
    },
    {
      "cell_type": "code",
      "source": [
        "# # Set up the figure and axes\n",
        "# plt.figure(figsize=(10, 5))\n",
        "\n",
        "# # Plot for Losses\n",
        "# plt.subplot(1, 2, 1)\n",
        "# plt.plot(losses, label='Losses')\n",
        "# plt.xlabel(\"Iterations\")\n",
        "# plt.ylabel(\"Loss\")\n",
        "# plt.title(\"Loss per Iteration\")\n",
        "# plt.grid(True)\n",
        "# plt.legend()\n",
        "\n",
        "# # Plot for RMSE\n",
        "# plt.subplot(1, 2, 2)\n",
        "# plt.plot(rmse_train, label=\"RMSE Train\")\n",
        "# plt.plot(rmse_test, label=\"RMSE Test\")\n",
        "# plt.xlabel(\"Iterations\")\n",
        "# plt.ylabel(\"RMSE\")\n",
        "# plt.title(\"RMSE per Iteration\")\n",
        "# plt.grid(True)\n",
        "# plt.legend()\n",
        "\n",
        "\n",
        "\n",
        "# plt.show()\n"
      ],
      "metadata": {
        "id": "-Mj_rc5cc93h"
      },
      "execution_count": 24,
      "outputs": []
    },
    {
      "cell_type": "markdown",
      "source": [
        "##try 3:"
      ],
      "metadata": {
        "id": "3AHy8uzMc2XN"
      }
    },
    {
      "cell_type": "code",
      "source": [
        "# num_iterations = 10\n",
        "# gamma = 0.1\n",
        "# lambda_ = 0.1\n",
        "# losses, rmse_train, rmse_test, user_biases, movie_biases = train_model(users_data, movies_data, num_iterations, lambda_, gamma)\n"
      ],
      "metadata": {
        "id": "sXzosjd-c42I"
      },
      "execution_count": 25,
      "outputs": []
    },
    {
      "cell_type": "code",
      "source": [
        "# # Set up the figure and axes\n",
        "# plt.figure(figsize=(10, 5))\n",
        "\n",
        "# # Plot for Losses\n",
        "# plt.subplot(1, 2, 1)\n",
        "# plt.plot(losses, label='Losses')\n",
        "# plt.xlabel(\"Iterations\")\n",
        "# plt.ylabel(\"Loss\")\n",
        "# plt.title(\"Loss per Iteration\")\n",
        "# plt.grid(True)\n",
        "# plt.legend()\n",
        "\n",
        "# # Plot for RMSE\n",
        "# plt.subplot(1, 2, 2)\n",
        "# plt.plot(rmse_train, label=\"RMSE Train\")\n",
        "# plt.plot(rmse_test, label=\"RMSE Test\")\n",
        "# plt.xlabel(\"Iterations\")\n",
        "# plt.ylabel(\"RMSE\")\n",
        "# plt.title(\"RMSE per Iteration\")\n",
        "# plt.grid(True)\n",
        "# plt.legend()\n",
        "\n",
        "\n",
        "\n",
        "# plt.show()\n"
      ],
      "metadata": {
        "id": "R3X6Id90exMj"
      },
      "execution_count": 26,
      "outputs": []
    },
    {
      "cell_type": "markdown",
      "source": [
        "##try 4:"
      ],
      "metadata": {
        "id": "xEa6JFOAc5lx"
      }
    },
    {
      "cell_type": "code",
      "source": [
        "# num_iterations = 10\n",
        "# gamma = 1.5 #0.001\n",
        "# lambda_ = 1 #0.01\n",
        "# losses, rmse_train, rmse_test, user_biases, movie_biases = train_model(users_data, movies_data, num_iterations, lambda_, gamma)\n"
      ],
      "metadata": {
        "id": "D95H_A-3c_mo"
      },
      "execution_count": 27,
      "outputs": []
    },
    {
      "cell_type": "code",
      "source": [
        "# # Set up the figure and axes\n",
        "# plt.figure(figsize=(10, 5))\n",
        "\n",
        "# # Plot for Losses\n",
        "# plt.subplot(1, 2, 1)\n",
        "# plt.plot(losses, label='Losses')\n",
        "# plt.xlabel(\"Iterations\")\n",
        "# plt.ylabel(\"Loss\")\n",
        "# plt.title(\"Loss per Iteration\")\n",
        "# plt.grid(True)\n",
        "# plt.legend()\n",
        "\n",
        "# # Plot for RMSE\n",
        "# plt.subplot(1, 2, 2)\n",
        "# plt.plot(rmse_train, label=\"RMSE Train\")\n",
        "# plt.plot(rmse_test, label=\"RMSE Test\")\n",
        "# plt.xlabel(\"Iterations\")\n",
        "# plt.ylabel(\"RMSE\")\n",
        "# plt.title(\"RMSE per Iteration\")\n",
        "# plt.grid(True)\n",
        "# plt.legend()\n",
        "\n",
        "\n",
        "\n",
        "# plt.show()\n"
      ],
      "metadata": {
        "id": "0ms7BH8_ffhC"
      },
      "execution_count": 28,
      "outputs": []
    },
    {
      "cell_type": "markdown",
      "source": [
        "##try 5:"
      ],
      "metadata": {
        "id": "Nv-7MqS4c7sW"
      }
    },
    {
      "cell_type": "code",
      "source": [
        "# num_iterations = 10\n",
        "# gamma = 2 #0.001\n",
        "# lambda_ = 1 #0.01\n",
        "# losses, rmse_train, rmse_test, user_biases, movie_biases = train_model(users_data, movies_data, num_iterations, lambda_, gamma)\n"
      ],
      "metadata": {
        "id": "S_1kHBM1dA90"
      },
      "execution_count": 29,
      "outputs": []
    },
    {
      "cell_type": "code",
      "source": [
        "# # Set up the figure and axes\n",
        "# plt.figure(figsize=(10, 5))\n",
        "\n",
        "# # Plot for Losses\n",
        "# plt.subplot(1, 2, 1)\n",
        "# plt.plot(losses, label='Losses')\n",
        "# plt.xlabel(\"Iterations\")\n",
        "# plt.ylabel(\"Loss\")\n",
        "# plt.title(\"Loss per Iteration\")\n",
        "# plt.grid(True)\n",
        "# plt.legend()\n",
        "\n",
        "# # Plot for RMSE\n",
        "# plt.subplot(1, 2, 2)\n",
        "# plt.plot(rmse_train, label=\"RMSE Train\")\n",
        "# plt.plot(rmse_test, label=\"RMSE Test\")\n",
        "# plt.xlabel(\"Iterations\")\n",
        "# plt.ylabel(\"RMSE\")\n",
        "# plt.title(\"RMSE per Iteration\")\n",
        "# plt.grid(True)\n",
        "# plt.legend()\n",
        "\n",
        "\n",
        "\n",
        "# plt.show()\n"
      ],
      "metadata": {
        "id": "wA46OagUgel8"
      },
      "execution_count": 30,
      "outputs": []
    },
    {
      "cell_type": "markdown",
      "source": [
        "#Part3:"
      ],
      "metadata": {
        "id": "Y03zmfDkHEuR"
      }
    },
    {
      "cell_type": "markdown",
      "source": [
        "##Init U,V:"
      ],
      "metadata": {
        "id": "BiHQOnIoRFDJ"
      }
    },
    {
      "cell_type": "code",
      "source": [
        "def init_latent_matrices(num_users, num_movies, k, seed=None):\n",
        "    if seed is not None:\n",
        "      np.random.seed(seed)\n",
        "\n",
        "    # Initialize user/movie latent matrices with normal distribution\n",
        "    U_matrix = np.random.normal(size=(num_users, k), scale=1/np.sqrt(k))\n",
        "    V_matrix =  np.random.normal(size=(num_movies, k), scale=1/np.sqrt(k))\n",
        "    return U_matrix, V_matrix\n"
      ],
      "metadata": {
        "id": "xqaGgJwNHDHx"
      },
      "execution_count": 23,
      "outputs": []
    },
    {
      "cell_type": "markdown",
      "source": [
        "##Update users biases with laten"
      ],
      "metadata": {
        "id": "HmlIKTEACHIf"
      }
    },
    {
      "cell_type": "code",
      "source": [
        "def update_user_biases_with_latent(user_id, users_data, user_biases, movie_biases, U_matrix, V_matrix, lambda_=0.1, gamma=0.1):\n",
        "\n",
        "    # for user_id, user_data in enumerate(users_data):\n",
        "      # Number of movies rated by user\n",
        "      n = 0\n",
        "      error = 0\n",
        "      for movie_rating in users_data[user_id]:\n",
        "        if movie_rating:\n",
        "          n +=1\n",
        "          movie_id, rating = movie_rating\n",
        "          movie_index = movie_to_id[movie_id]\n",
        "          u = U_matrix[user_id]\n",
        "          v = V_matrix[movie_index]\n",
        "          predicted_rating = np.dot(u, v) + movie_biases[movie_index]\n",
        "          error += rating - predicted_rating\n",
        "      regularized_term = lambda_ * n + gamma\n",
        "      user_biases[user_id] = lambda_ * (error / regularized_term)"
      ],
      "metadata": {
        "id": "Pp58FkFo-y8C"
      },
      "execution_count": 24,
      "outputs": []
    },
    {
      "cell_type": "markdown",
      "source": [
        "##Update movie biases with laten"
      ],
      "metadata": {
        "id": "DrRJbgZaCNng"
      }
    },
    {
      "cell_type": "code",
      "source": [
        "def update_movie_biases_with_latent(movie_id, movies_data, user_biases, movie_biases, U_matrix, V_matrix, lambda_=0.1, gamma=0.1):\n",
        "\n",
        "    # for movie_id, movie_data in enumerate(movies_data):\n",
        "      # Number of users that rated this movie\n",
        "      m = 0\n",
        "      error = 0\n",
        "      for user_rating in movies_data[movie_id]:\n",
        "        if user_rating:\n",
        "          m +=1\n",
        "          user_id, rating = user_rating\n",
        "          user_index = user_to_id[user_id]\n",
        "          u = U_matrix[user_index]\n",
        "          v = V_matrix[movie_id]\n",
        "          predicted_rating = np.dot(u, v) + user_biases[user_index]\n",
        "          error += rating - predicted_rating\n",
        "\n",
        "      regularized_term =  lambda_ * m + gamma\n",
        "      movie_biases[movie_id] = lambda_ * (error /regularized_term)\n"
      ],
      "metadata": {
        "id": "YoLHZwb8BzXV"
      },
      "execution_count": 25,
      "outputs": []
    },
    {
      "cell_type": "markdown",
      "source": [
        "##update user latent um"
      ],
      "metadata": {
        "id": "8L6-Nj9pnQZQ"
      }
    },
    {
      "cell_type": "code",
      "source": [
        "def update_user_latent(user_id, users_data, U_matrix, V_matrix , k, lambda_=0.1, tau=0.1):\n",
        "    identity_mat = np.eye(k)\n",
        "  # for user_id, user_data in enumerate(users_data):\n",
        "    n = 0\n",
        "    term = np.zeros(k)\n",
        "    term_inverse = np.zeros((k,k))\n",
        "\n",
        "    for movie_rating in users_data[user_id]:\n",
        "      if movie_rating:\n",
        "        n +=1\n",
        "        movie_id, rating = movie_rating\n",
        "        movie_index = movie_to_id[movie_id]\n",
        "        v = V_matrix[movie_index]\n",
        "        term += v * rating\n",
        "        term_inverse += np.outer(v,v)\n",
        "    term *= lambda_\n",
        "    term_inverse *= lambda_\n",
        "    # term_inverse+=  gamma*(np.eye(k))\n",
        "    term_inverse += tau * identity_mat\n",
        "    u = np.linalg.solve(term_inverse, term)\n",
        "    U_matrix[user_id] = u\n",
        "\n"
      ],
      "metadata": {
        "id": "bKxLKwXWBJcE"
      },
      "execution_count": 26,
      "outputs": []
    },
    {
      "cell_type": "markdown",
      "source": [
        "##Update movie latent"
      ],
      "metadata": {
        "id": "1ZjVZooErRmJ"
      }
    },
    {
      "cell_type": "code",
      "source": [
        "def update_movie_latent(movie_id, movies_data, U_matrix, V_matrix , k, lambda_=0.1, tau=0.1):\n",
        "    identity_mat = np.eye(k)\n",
        "  # for movie_id, movie_data in enumerate(movies_data):\n",
        "    m = 0\n",
        "    term = np.zeros(k)\n",
        "    term_inverse = np.zeros((k,k))\n",
        "\n",
        "    for user_rating in movies_data[movie_id]:\n",
        "      if user_rating:\n",
        "        m +=1\n",
        "        user_id, rating = user_rating\n",
        "        user_index = user_to_id[user_id]\n",
        "        u = U_matrix[user_index]\n",
        "        term += u * rating\n",
        "        term_inverse += np.outer(u,u)\n",
        "    term *= lambda_\n",
        "    term_inverse *= lambda_\n",
        "    term_inverse+=  tau*(identity_mat)\n",
        "\n",
        "    v = np.linalg.solve(term_inverse, term)\n",
        "    V_matrix[movie_id] = v\n"
      ],
      "metadata": {
        "id": "wZuw0C2dC8M2"
      },
      "execution_count": 27,
      "outputs": []
    },
    {
      "cell_type": "markdown",
      "source": [
        "##Calc Loss with latent"
      ],
      "metadata": {
        "id": "rQECWcVLFchP"
      }
    },
    {
      "cell_type": "code",
      "source": [
        "# def calc_loss_with_latent(users_data, user_biases, movie_biases, U_matrix, V_matrix, lambda_=0.1, gamma=0.1):\n",
        "#   total_loss = 0\n",
        "#   for user_id in range(len(users_data)):\n",
        "#     for movie_rating in users_data[user_id]:\n",
        "#       # Check for non-empty entries\n",
        "#       if movie_rating:\n",
        "#         movie_id , rating = movie_rating\n",
        "#         movie_index = movie_to_id[movie_id]\n",
        "#         predicted_rating = np.dot(U_matrix[user_id].T,V_matrix[movie_index])+user_biases[user_id] + movie_biases[movie_index]\n",
        "#         total_loss += (rating - predicted_rating)**2\n",
        "\n",
        "#   # Regularization terms ==================> missing u, v terms\n",
        "\n",
        "#   user_bias_sum  = np.dot(user_biases, user_biases) # check this part, then add u,v\n",
        "#   movie_bias_sum = np.dot(movie_biases, movie_biases)\n",
        "#   total_loss = lambda_*total_loss + gamma*user_bias_sum + gamma*movie_bias_sum\n",
        "\n",
        "#   return 0.5*total_loss\n",
        "# # Combine both losses so i can choose when to use latens or not\n",
        "def calc_loss_with_latent(users_data, user_biases, movie_biases, U_matrix, V_matrix, lambda_=0.1, gamma=0.1, tau=0.1):\n",
        "  total_loss = 0\n",
        "  for user_id in range(len(users_data)):\n",
        "    for movie_rating in users_data[user_id]:\n",
        "      # Check for non-empty entries\n",
        "      if movie_rating:\n",
        "        movie_id , rating = movie_rating\n",
        "        movie_index = movie_to_id[movie_id]\n",
        "        predicted_rating = np.dot(U_matrix[user_id].T,V_matrix[movie_index])+user_biases[user_id] + movie_biases[movie_index]\n",
        "        total_loss += (rating - predicted_rating)**2\n",
        "\n",
        "    # total_loss += (tau / 2) * np.dot(U_matrix[user_id], U_matrix[user_id])\n",
        "  # Regularization terms ==================> missing u, v terms\n",
        "    # total_loss+=(tau/2)*np.dot(U_matrix[user_id].T, U_matrix[user_id])\n",
        "  user_latent_reg = np.sum(np.sum(U_matrix))\n",
        "  movie_latent_reg = np.sum(np.sum(V_matrix))\n",
        "  user_bias_sum  = np.dot(user_biases, user_biases) # check this part, then add u,v\n",
        "  movie_bias_sum = np.dot(movie_biases, movie_biases)\n",
        "  total_loss = lambda_*total_loss + gamma*user_bias_sum + gamma*movie_bias_sum + (tau/2)*user_latent_reg + (tau/2)*movie_latent_reg\n",
        "\n",
        "  return 0.5*total_loss\n",
        "# Combine both losses so i can choose when to use latens or not"
      ],
      "metadata": {
        "id": "6_rWF8BCCUBt"
      },
      "execution_count": 28,
      "outputs": []
    },
    {
      "cell_type": "code",
      "source": [
        "import numpy as np\n",
        "V_matrix = [[1,2,3],[4,5,6]]\n",
        "V_matrix = np.array(V_matrix)\n",
        "np.sum(np.sum(V_matrix**2))"
      ],
      "metadata": {
        "colab": {
          "base_uri": "https://localhost:8080/"
        },
        "id": "ek9ZMJqfp-ZL",
        "outputId": "41314ff5-1198-47d4-8af1-d14642c85e5d"
      },
      "execution_count": 29,
      "outputs": [
        {
          "output_type": "execute_result",
          "data": {
            "text/plain": [
              "91"
            ]
          },
          "metadata": {},
          "execution_count": 29
        }
      ]
    },
    {
      "cell_type": "markdown",
      "source": [
        "##Calc RMSE with latent"
      ],
      "metadata": {
        "id": "InJPJxO9FhBR"
      }
    },
    {
      "cell_type": "code",
      "source": [
        "def calc_rmse_with_latent(users_data, user_biases, movie_biases, U_matrix, V_matrix):\n",
        "  error = 0\n",
        "  count = 0\n",
        "  for user_id in range(len(users_data)):\n",
        "    for movie_rating in users_data[user_id]:\n",
        "      # Check for non-empty entries\n",
        "      if movie_rating:\n",
        "        movie_id , rating = movie_rating\n",
        "        movie_index = movie_to_id[movie_id]\n",
        "\n",
        "        predicted_rating = (np.dot(U_matrix[user_id].T,V_matrix[movie_index])\n",
        "                                  + user_biases[user_id]\n",
        "                                  + movie_biases[movie_index] )\n",
        "\n",
        "        error += (rating - predicted_rating)**2\n",
        "        # Increment count of valid ratings\n",
        "        count+=1\n",
        "\n",
        "  rmse =  np.sqrt(error/count)\n",
        "  return rmse\n"
      ],
      "metadata": {
        "id": "w5XhXz1iFOyJ"
      },
      "execution_count": 30,
      "outputs": []
    },
    {
      "cell_type": "markdown",
      "source": [
        "##Train the model with latent"
      ],
      "metadata": {
        "id": "1dCux6SYFjbi"
      }
    },
    {
      "cell_type": "code",
      "source": [
        "\n",
        "\n",
        "def train_model_with_latent(users_data, movie_biases, k, num_iterations,  lambda_, gamma, tau):\n",
        "  users_data_train, users_data_test, movies_data_train, movies_data_test = split(users_data, movies_data)\n",
        "\n",
        "  U_matrix, V_matrix = init_latent_matrices(len(users_data), len(movies_data), k, seed=10)\n",
        "  user_biases , movie_biases = init_biases(users_data_train, movies_data_train)\n",
        "\n",
        "  losses_list, rmse_train_list, rmse_test_list = [], [], []\n",
        "\n",
        "  # initialize user/movie biases\n",
        "  user_biases , movie_biases = init_biases(users_data_train, movies_data_train)\n",
        "  for i in range(num_iterations):\n",
        "    print(f\"Iteration: ({i+1}/{num_iterations})\")\n",
        "\n",
        "    # Update user biases/latents\n",
        "    for user_id in range(len(users_data_train)):\n",
        "      update_user_biases_with_latent(user_id, users_data_train, user_biases, movie_biases, U_matrix, V_matrix, lambda_, gamma )\n",
        "      update_user_latent(user_id, users_data_train, U_matrix, V_matrix, k, lambda_, tau)\n",
        "\n",
        "    # Update movie biases/latents\n",
        "    for movie_id in range(len(movies_data_train)):\n",
        "      update_movie_biases_with_latent(movie_id, movies_data_train, user_biases, movie_biases, U_matrix, V_matrix, lambda_, gamma )\n",
        "      update_movie_latent(movie_id, movies_data_train, U_matrix, V_matrix, k, lambda_, tau)\n",
        "\n",
        "\n",
        "\n",
        "    # Calculate loss and RMSE values\n",
        "    loss = calc_loss_with_latent(users_data_train, user_biases, movie_biases, U_matrix, V_matrix, lambda_, gamma, tau)\n",
        "    rmse_train = calc_rmse_with_latent(users_data_train, user_biases, movie_biases, U_matrix, V_matrix)\n",
        "    rmse_test = calc_rmse_with_latent(users_data_test, user_biases, movie_biases, U_matrix, V_matrix)\n",
        "\n",
        "    # Store values in thier respective lists\n",
        "    losses_list.append(loss)\n",
        "    rmse_train_list.append(rmse_train)\n",
        "    rmse_test_list.append(rmse_test)\n",
        "\n",
        "    # Print progress\n",
        "    print(f\"Loss: ==> {loss}, RMSE (Train):==> {rmse_train}, RMSE (Test):==> {rmse_test}\")\n",
        "\n",
        "  return losses_list, rmse_train_list, rmse_test_list, user_biases, movie_biases, U_matrix, V_matrix\n"
      ],
      "metadata": {
        "id": "txW-gbwyvmVH"
      },
      "execution_count": 39,
      "outputs": []
    },
    {
      "cell_type": "markdown",
      "source": [
        "##Training and validating model with latent"
      ],
      "metadata": {
        "id": "W4goffDAf6oO"
      }
    },
    {
      "cell_type": "markdown",
      "source": [
        "##Try 1:"
      ],
      "metadata": {
        "id": "uqEK6Dh4iAFR"
      }
    },
    {
      "cell_type": "code",
      "source": [
        "# k = 10\n",
        "# lambda_ = 1\n",
        "# gamma = 0.1\n",
        "# tau = 1\n",
        "k = 20\n",
        "lambda_ = 0.1\n",
        "gamma = 0.1\n",
        "tau = 1\n",
        "num_iterations = 10\n",
        "\n",
        "loss_with_latent, rmse_train_with_latent, rmse_test_with_latent , user_biases, movie_biases, U_matrix, V_matrix= train_model_with_latent(users_data, movies_data, k, num_iterations, lambda_, gamma, tau)"
      ],
      "metadata": {
        "id": "AhlUl6EjvRYZ",
        "colab": {
          "base_uri": "https://localhost:8080/"
        },
        "outputId": "884b5167-bfa2-44be-ff2f-8c0edfcf245c"
      },
      "execution_count": 41,
      "outputs": [
        {
          "output_type": "stream",
          "name": "stdout",
          "text": [
            "Iteration: (1/10)\n",
            "Loss: ==> 11164352.365415461, RMSE (Train):==> 3.1285767583409703, RMSE (Test):==> 3.039653240418536\n",
            "Iteration: (2/10)\n",
            "Loss: ==> 2660449.83348826, RMSE (Train):==> 1.5029631044714937, RMSE (Test):==> 1.5337532069325257\n",
            "Iteration: (3/10)\n",
            "Loss: ==> 659622.5576507589, RMSE (Train):==> 0.711570424348149, RMSE (Test):==> 0.7816096461940203\n",
            "Iteration: (4/10)\n",
            "Loss: ==> 632795.3808424071, RMSE (Train):==> 0.6957430087914742, RMSE (Test):==> 0.7703973716432346\n",
            "Iteration: (5/10)\n",
            "Loss: ==> 623567.8092060856, RMSE (Train):==> 0.6907144462546376, RMSE (Test):==> 0.7674491864052276\n",
            "Iteration: (6/10)\n",
            "Loss: ==> 618510.4400905353, RMSE (Train):==> 0.6882230935123365, RMSE (Test):==> 0.7662699338896946\n",
            "Iteration: (7/10)\n",
            "Loss: ==> 615334.3929541062, RMSE (Train):==> 0.6867623650179365, RMSE (Test):==> 0.7657365393039564\n",
            "Iteration: (8/10)\n",
            "Loss: ==> 613288.7931700363, RMSE (Train):==> 0.685813990747079, RMSE (Test):==> 0.7654769021727188\n",
            "Iteration: (9/10)\n",
            "Loss: ==> 612037.3491049658, RMSE (Train):==> 0.6851598465865708, RMSE (Test):==> 0.7653499009611305\n",
            "Iteration: (10/10)\n",
            "Loss: ==> 611361.9370475572, RMSE (Train):==> 0.6846949248246637, RMSE (Test):==> 0.7652948604680594\n"
          ]
        }
      ]
    },
    {
      "cell_type": "code",
      "source": [
        "plt.figure(figsize=(10,5))\n",
        "plt.subplot(1,2,1)\n",
        "plt.plot(loss_with_latent)\n",
        "plt.xlabel(\"Iterations \")\n",
        "plt.ylabel(\"Losses\")\n",
        "plt.title(\"Losses per iterations\")\n",
        "\n",
        "plt.subplot(1,2,2)\n",
        "plt.plot(rmse_train_with_latent, label=\"RMSE Train\")\n",
        "plt.legend()\n",
        "plt.xlabel(\"Iterations \")\n",
        "plt.ylabel(\"RMSE\")\n",
        "plt.plot(rmse_test_with_latent, label=\"RMSE Test\")\n",
        "plt.legend()\n",
        "plt.xlabel(\"Iterations \")\n",
        "plt.ylabel(\"RMSE\")\n",
        "\n",
        "\n",
        "\n",
        "\n",
        "plt.show()"
      ],
      "metadata": {
        "id": "2cDzEfwtcaFb",
        "colab": {
          "base_uri": "https://localhost:8080/",
          "height": 366
        },
        "outputId": "b17646b4-8c45-4fab-a10c-75eca3c7960e"
      },
      "execution_count": 42,
      "outputs": [
        {
          "output_type": "display_data",
          "data": {
            "text/plain": [
              "<Figure size 1000x500 with 2 Axes>"
            ],
            "image/png": "[encoded data removed]"
          },
          "metadata": {}
        }
      ]
    },
    {
      "cell_type": "markdown",
      "source": [
        "##Saving weights and losses"
      ],
      "metadata": {
        "id": "RC4MTdiFuEew"
      }
    },
    {
      "cell_type": "code",
      "source": [
        "np.savez(f\"/content/drive/MyDrive/model_parameters_({k}_{lambda_}_{gamma}_{tau}).npz\",\n",
        "         rmse_train_losses=rmse_train_with_latent,\n",
        "         rmse_test_losses=rmse_test_with_latent,\n",
        "         train_losses=loss_with_latent,\n",
        "         user_biases=user_biases,\n",
        "         movie_biases=movie_biases,\n",
        "         users_latent=U_matrix,\n",
        "         movies_latent=V_matrix)"
      ],
      "metadata": {
        "id": "yGgDQHmDuDv3"
      },
      "execution_count": 43,
      "outputs": []
    },
    {
      "cell_type": "code",
      "source": [],
      "metadata": {
        "id": "_FSC-T3nvvLJ"
      },
      "execution_count": 44,
      "outputs": []
    },
    {
      "cell_type": "markdown",
      "source": [
        "##Loading w/l"
      ],
      "metadata": {
        "id": "3QPXoHZNuKk0"
      }
    },
    {
      "cell_type": "code",
      "source": [
        "# Load the data\n",
        "import numpy as np\n",
        "import matplotlib.pyplot as plt\n",
        "\n",
        "data = np.load(\"/content/drive/MyDrive/model_parameters_(20_0.1_0.1_1).npz\")\n",
        "\n",
        "# Access each parameter by key\n",
        "rmse__train_losses = data['rmse_train_losses']\n",
        "rmse_test_losses = data['rmse_test_losses']\n",
        "train_losses = data['train_losses']\n",
        "user_biases = data['user_biases']\n",
        "movie_biases = data['movie_biases']\n",
        "users_latent = data['users_latent']\n",
        "movies_latent = data['movies_latent']\n"
      ],
      "metadata": {
        "id": "94_HlBm0uPJH"
      },
      "execution_count": 6,
      "outputs": []
    },
    {
      "cell_type": "code",
      "source": [
        "plt.figure(figsize=(10,5))\n",
        "plt.subplot(1,2,1)\n",
        "plt.plot(train_losses)\n",
        "plt.xlabel(\"Iterations \")\n",
        "plt.ylabel(\"Losses\")\n",
        "plt.title(\"Losses per iterations\")\n",
        "plt.grid(True)\n",
        "\n",
        "\n",
        "plt.subplot(1,2,2)\n",
        "plt.plot(rmse__train_losses, label=\"RMSE Train\", color=\"blue\")\n",
        "plt.xlabel(\"Iterations \")\n",
        "plt.ylabel(\"RMSE\")\n",
        "plt.plot(rmse_test_losses, label=\"RMSE Test\", color=\"red\")\n",
        "plt.xlabel(\"Iterations \")\n",
        "plt.ylabel(\"RMSE\")\n",
        "plt.grid(True)\n",
        "\n",
        "plt.savefig(\"plot_latent_25m_try_2.pdf\", format=\"pdf\")\n",
        "plt.show()"
      ],
      "metadata": {
        "colab": {
          "base_uri": "https://localhost:8080/",
          "height": 366
        },
        "id": "SWHiv-oICKp4",
        "outputId": "8772b511-0ec7-4789-b055-5c3c609f50f3"
      },
      "execution_count": 7,
      "outputs": [
        {
          "output_type": "display_data",
          "data": {
            "text/plain": [
              "<Figure size 1000x500 with 2 Axes>"
            ],
            "image/png": "[encoded data removed]"
          },
          "metadata": {}
        }
      ]
    },
    {
      "cell_type": "code",
      "source": [
        "from google.colab import drive\n",
        "drive.mount('/content/drive')"
      ],
      "metadata": {
        "colab": {
          "base_uri": "https://localhost:8080/"
        },
        "id": "lI_hUVe3CR_Y",
        "outputId": "9a4eb935-8157-49f8-b4f5-e32c80b64781"
      },
      "execution_count": 8,
      "outputs": [
        {
          "output_type": "stream",
          "name": "stdout",
          "text": [
            "Drive already mounted at /content/drive; to attempt to forcibly remount, call drive.mount(\"/content/drive\", force_remount=True).\n"
          ]
        }
      ]
    },
    {
      "cell_type": "code",
      "source": [
        "movies_latent[:5]"
      ],
      "metadata": {
        "colab": {
          "base_uri": "https://localhost:8080/"
        },
        "id": "5znEd2zFKGdK",
        "outputId": "e9cf41eb-ecf8-48cd-e02e-97871b244fcd"
      },
      "execution_count": 9,
      "outputs": [
        {
          "output_type": "execute_result",
          "data": {
            "text/plain": [
              "array([[ 0.39280555,  2.90031933,  0.73298075,  0.22094501,  0.61955621,\n",
              "         1.69624128, -1.92011438, -0.43841828, -0.7060463 , -0.05378545,\n",
              "        -2.14340776,  0.12107574,  0.18546442, -0.33297212, -1.34928738,\n",
              "         1.47538038, -0.57511266,  2.37970971,  1.21599853,  1.06583945],\n",
              "       [ 0.5843537 ,  1.87166285, -0.25859375, -0.60799092,  0.45110615,\n",
              "         0.62480766, -0.0671926 , -0.08398703,  2.22442132,  0.0875626 ,\n",
              "        -0.62147733,  1.03070467, -0.17266071, -0.89656614, -0.04295346,\n",
              "         1.78290892, -1.33801115,  1.19245844,  1.91884674,  0.32481578],\n",
              "       [ 0.79229667,  1.90810799, -0.35973663, -0.86450946,  0.52627069,\n",
              "         0.30547657, -0.00624708, -0.07951502,  2.35727197, -0.01722148,\n",
              "        -0.65829176,  0.90680014, -0.21257275, -0.87475605, -0.05561291,\n",
              "         1.79761063, -1.36081633,  0.99853001,  1.90939744,  0.34273878],\n",
              "       [ 0.92243139,  1.67531539, -0.05470709, -0.21248869,  0.76766065,\n",
              "         0.409312  , -0.92145981,  0.03790149,  0.38538774, -0.52236591,\n",
              "        -0.13570853, -0.31583449, -0.33278079, -1.09956054, -0.39761639,\n",
              "         1.44320437, -1.78956457,  0.77278488,  1.52788735,  0.63992911],\n",
              "       [-1.12375827,  1.29775948,  0.26581409,  0.16629535,  0.72796625,\n",
              "         1.64179173,  0.28993117,  0.48133128,  0.33540228,  0.29117479,\n",
              "         0.90433984, -0.63701198, -0.54385273, -1.24452252, -0.14863637,\n",
              "         0.65084609, -2.49183585,  1.48771059,  1.19353986, -0.25015311]])"
            ]
          },
          "metadata": {},
          "execution_count": 9
        }
      ]
    },
    {
      "cell_type": "code",
      "source": [
        "movies_df = pd.read_csv(\"/content/ml-25m/movies.csv\")\n",
        "\n",
        "movies_df.head(10)"
      ],
      "metadata": {
        "colab": {
          "base_uri": "https://localhost:8080/",
          "height": 380
        },
        "id": "5t7xB-0wKNNJ",
        "outputId": "fea679dd-519f-4447-e40b-bebf953dfc60"
      },
      "execution_count": 31,
      "outputs": [
        {
          "output_type": "execute_result",
          "data": {
            "text/plain": [
              "   movieId                               title  \\\n",
              "0        1                    Toy Story (1995)   \n",
              "1        2                      Jumanji (1995)   \n",
              "2        3             Grumpier Old Men (1995)   \n",
              "3        4            Waiting to Exhale (1995)   \n",
              "4        5  Father of the Bride Part II (1995)   \n",
              "5        6                         Heat (1995)   \n",
              "6        7                      Sabrina (1995)   \n",
              "7        8                 Tom and Huck (1995)   \n",
              "8        9                 Sudden Death (1995)   \n",
              "9       10                    GoldenEye (1995)   \n",
              "\n",
              "                                        genres  \n",
              "0  Adventure|Animation|Children|Comedy|Fantasy  \n",
              "1                   Adventure|Children|Fantasy  \n",
              "2                               Comedy|Romance  \n",
              "3                         Comedy|Drama|Romance  \n",
              "4                                       Comedy  \n",
              "5                        Action|Crime|Thriller  \n",
              "6                               Comedy|Romance  \n",
              "7                           Adventure|Children  \n",
              "8                                       Action  \n",
              "9                    Action|Adventure|Thriller  "
            ],
            "text/html": [
              "\n",
              "  <div id=\"df-e9944ae7-0004-441f-ac10-6c7290080972\" class=\"colab-df-container\">\n",
              "    <div>\n",
              "<style scoped>\n",
              "    .dataframe tbody tr th:only-of-type {\n",
              "        vertical-align: middle;\n",
              "    }\n",
              "\n",
              "    .dataframe tbody tr th {\n",
              "        vertical-align: top;\n",
              "    }\n",
              "\n",
              "    .dataframe thead th {\n",
              "        text-align: right;\n",
              "    }\n",
              "</style>\n",
              "<table border=\"1\" class=\"dataframe\">\n",
              "  <thead>\n",
              "    <tr style=\"text-align: right;\">\n",
              "      <th></th>\n",
              "      <th>movieId</th>\n",
              "      <th>title</th>\n",
              "      <th>genres</th>\n",
              "    </tr>\n",
              "  </thead>\n",
              "  <tbody>\n",
              "    <tr>\n",
              "      <th>0</th>\n",
              "      <td>1</td>\n",
              "      <td>Toy Story (1995)</td>\n",
              "      <td>Adventure|Animation|Children|Comedy|Fantasy</td>\n",
              "    </tr>\n",
              "    <tr>\n",
              "      <th>1</th>\n",
              "      <td>2</td>\n",
              "      <td>Jumanji (1995)</td>\n",
              "      <td>Adventure|Children|Fantasy</td>\n",
              "    </tr>\n",
              "    <tr>\n",
              "      <th>2</th>\n",
              "      <td>3</td>\n",
              "      <td>Grumpier Old Men (1995)</td>\n",
              "      <td>Comedy|Romance</td>\n",
              "    </tr>\n",
              "    <tr>\n",
              "      <th>3</th>\n",
              "      <td>4</td>\n",
              "      <td>Waiting to Exhale (1995)</td>\n",
              "      <td>Comedy|Drama|Romance</td>\n",
              "    </tr>\n",
              "    <tr>\n",
              "      <th>4</th>\n",
              "      <td>5</td>\n",
              "      <td>Father of the Bride Part II (1995)</td>\n",
              "      <td>Comedy</td>\n",
              "    </tr>\n",
              "    <tr>\n",
              "      <th>5</th>\n",
              "      <td>6</td>\n",
              "      <td>Heat (1995)</td>\n",
              "      <td>Action|Crime|Thriller</td>\n",
              "    </tr>\n",
              "    <tr>\n",
              "      <th>6</th>\n",
              "      <td>7</td>\n",
              "      <td>Sabrina (1995)</td>\n",
              "      <td>Comedy|Romance</td>\n",
              "    </tr>\n",
              "    <tr>\n",
              "      <th>7</th>\n",
              "      <td>8</td>\n",
              "      <td>Tom and Huck (1995)</td>\n",
              "      <td>Adventure|Children</td>\n",
              "    </tr>\n",
              "    <tr>\n",
              "      <th>8</th>\n",
              "      <td>9</td>\n",
              "      <td>Sudden Death (1995)</td>\n",
              "      <td>Action</td>\n",
              "    </tr>\n",
              "    <tr>\n",
              "      <th>9</th>\n",
              "      <td>10</td>\n",
              "      <td>GoldenEye (1995)</td>\n",
              "      <td>Action|Adventure|Thriller</td>\n",
              "    </tr>\n",
              "  </tbody>\n",
              "</table>\n",
              "</div>\n",
              "    <div class=\"colab-df-buttons\">\n",
              "\n",
              "  <div class=\"colab-df-container\">\n",
              "    <button class=\"colab-df-convert\" onclick=\"convertToInteractive('df-e9944ae7-0004-441f-ac10-6c7290080972')\"\n",
              "            title=\"Convert this dataframe to an interactive table.\"\n",
              "            style=\"display:none;\">\n",
              "\n",
              "  <svg xmlns=\"http://www.w3.org/2000/svg\" height=\"24px\" viewBox=\"0 -960 960 960\">\n",
              "    <path d=\"M120-120v-720h720v720H120Zm60-500h600v-160H180v160Zm220 220h160v-160H400v160Zm0 220h160v-160H400v160ZM180-400h160v-160H180v160Zm440 0h160v-160H620v160ZM180-180h160v-160H180v160Zm440 0h160v-160H620v160Z\"/>\n",
              "  </svg>\n",
              "    </button>\n",
              "\n",
              "  <style>\n",
              "    .colab-df-container {\n",
              "      display:flex;\n",
              "      gap: 12px;\n",
              "    }\n",
              "\n",
              "    .colab-df-convert {\n",
              "      background-color: #E8F0FE;\n",
              "      border: none;\n",
              "      border-radius: 50%;\n",
              "      cursor: pointer;\n",
              "      display: none;\n",
              "      fill: #1967D2;\n",
              "      height: 32px;\n",
              "      padding: 0 0 0 0;\n",
              "      width: 32px;\n",
              "    }\n",
              "\n",
              "    .colab-df-convert:hover {\n",
              "      background-color: #E2EBFA;\n",
              "      box-shadow: 0px 1px 2px rgba(60, 64, 67, 0.3), 0px 1px 3px 1px rgba(60, 64, 67, 0.15);\n",
              "      fill: #174EA6;\n",
              "    }\n",
              "\n",
              "    .colab-df-buttons div {\n",
              "      margin-bottom: 4px;\n",
              "    }\n",
              "\n",
              "    [theme=dark] .colab-df-convert {\n",
              "      background-color: #3B4455;\n",
              "      fill: #D2E3FC;\n",
              "    }\n",
              "\n",
              "    [theme=dark] .colab-df-convert:hover {\n",
              "      background-color: #434B5C;\n",
              "      box-shadow: 0px 1px 3px 1px rgba(0, 0, 0, 0.15);\n",
              "      filter: drop-shadow(0px 1px 2px rgba(0, 0, 0, 0.3));\n",
              "      fill: #FFFFFF;\n",
              "    }\n",
              "  </style>\n",
              "\n",
              "    <script>\n",
              "      const buttonEl =\n",
              "        document.querySelector('#df-e9944ae7-0004-441f-ac10-6c7290080972 button.colab-df-convert');\n",
              "      buttonEl.style.display =\n",
              "        google.colab.kernel.accessAllowed ? 'block' : 'none';\n",
              "\n",
              "      async function convertToInteractive(key) {\n",
              "        const element = document.querySelector('#df-e9944ae7-0004-441f-ac10-6c7290080972');\n",
              "        const dataTable =\n",
              "          await google.colab.kernel.invokeFunction('convertToInteractive',\n",
              "                                                    [key], {});\n",
              "        if (!dataTable) return;\n",
              "\n",
              "        const docLinkHtml = 'Like what you see? Visit the ' +\n",
              "          '<a target=\"_blank\" href=https://colab.research.google.com/notebooks/data_table.ipynb>data table notebook</a>'\n",
              "          + ' to learn more about interactive tables.';\n",
              "        element.innerHTML = '';\n",
              "        dataTable['output_type'] = 'display_data';\n",
              "        await google.colab.output.renderOutput(dataTable, element);\n",
              "        const docLink = document.createElement('div');\n",
              "        docLink.innerHTML = docLinkHtml;\n",
              "        element.appendChild(docLink);\n",
              "      }\n",
              "    </script>\n",
              "  </div>\n",
              "\n",
              "\n",
              "<div id=\"df-8e98eb1d-47fe-4c98-9864-b61411c5b281\">\n",
              "  <button class=\"colab-df-quickchart\" onclick=\"quickchart('df-8e98eb1d-47fe-4c98-9864-b61411c5b281')\"\n",
              "            title=\"Suggest charts\"\n",
              "            style=\"display:none;\">\n",
              "\n",
              "<svg xmlns=\"http://www.w3.org/2000/svg\" height=\"24px\"viewBox=\"0 0 24 24\"\n",
              "     width=\"24px\">\n",
              "    <g>\n",
              "        <path d=\"M19 3H5c-1.1 0-2 .9-2 2v14c0 1.1.9 2 2 2h14c1.1 0 2-.9 2-2V5c0-1.1-.9-2-2-2zM9 17H7v-7h2v7zm4 0h-2V7h2v10zm4 0h-2v-4h2v4z\"/>\n",
              "    </g>\n",
              "</svg>\n",
              "  </button>\n",
              "\n",
              "<style>\n",
              "  .colab-df-quickchart {\n",
              "      --bg-color: #E8F0FE;\n",
              "      --fill-color: #1967D2;\n",
              "      --hover-bg-color: #E2EBFA;\n",
              "      --hover-fill-color: #174EA6;\n",
              "      --disabled-fill-color: #AAA;\n",
              "      --disabled-bg-color: #DDD;\n",
              "  }\n",
              "\n",
              "  [theme=dark] .colab-df-quickchart {\n",
              "      --bg-color: #3B4455;\n",
              "      --fill-color: #D2E3FC;\n",
              "      --hover-bg-color: #434B5C;\n",
              "      --hover-fill-color: #FFFFFF;\n",
              "      --disabled-bg-color: #3B4455;\n",
              "      --disabled-fill-color: #666;\n",
              "  }\n",
              "\n",
              "  .colab-df-quickchart {\n",
              "    background-color: var(--bg-color);\n",
              "    border: none;\n",
              "    border-radius: 50%;\n",
              "    cursor: pointer;\n",
              "    display: none;\n",
              "    fill: var(--fill-color);\n",
              "    height: 32px;\n",
              "    padding: 0;\n",
              "    width: 32px;\n",
              "  }\n",
              "\n",
              "  .colab-df-quickchart:hover {\n",
              "    background-color: var(--hover-bg-color);\n",
              "    box-shadow: 0 1px 2px rgba(60, 64, 67, 0.3), 0 1px 3px 1px rgba(60, 64, 67, 0.15);\n",
              "    fill: var(--button-hover-fill-color);\n",
              "  }\n",
              "\n",
              "  .colab-df-quickchart-complete:disabled,\n",
              "  .colab-df-quickchart-complete:disabled:hover {\n",
              "    background-color: var(--disabled-bg-color);\n",
              "    fill: var(--disabled-fill-color);\n",
              "    box-shadow: none;\n",
              "  }\n",
              "\n",
              "  .colab-df-spinner {\n",
              "    border: 2px solid var(--fill-color);\n",
              "    border-color: transparent;\n",
              "    border-bottom-color: var(--fill-color);\n",
              "    animation:\n",
              "      spin 1s steps(1) infinite;\n",
              "  }\n",
              "\n",
              "  @keyframes spin {\n",
              "    0% {\n",
              "      border-color: transparent;\n",
              "      border-bottom-color: var(--fill-color);\n",
              "      border-left-color: var(--fill-color);\n",
              "    }\n",
              "    20% {\n",
              "      border-color: transparent;\n",
              "      border-left-color: var(--fill-color);\n",
              "      border-top-color: var(--fill-color);\n",
              "    }\n",
              "    30% {\n",
              "      border-color: transparent;\n",
              "      border-left-color: var(--fill-color);\n",
              "      border-top-color: var(--fill-color);\n",
              "      border-right-color: var(--fill-color);\n",
              "    }\n",
              "    40% {\n",
              "      border-color: transparent;\n",
              "      border-right-color: var(--fill-color);\n",
              "      border-top-color: var(--fill-color);\n",
              "    }\n",
              "    60% {\n",
              "      border-color: transparent;\n",
              "      border-right-color: var(--fill-color);\n",
              "    }\n",
              "    80% {\n",
              "      border-color: transparent;\n",
              "      border-right-color: var(--fill-color);\n",
              "      border-bottom-color: var(--fill-color);\n",
              "    }\n",
              "    90% {\n",
              "      border-color: transparent;\n",
              "      border-bottom-color: var(--fill-color);\n",
              "    }\n",
              "  }\n",
              "</style>\n",
              "\n",
              "  <script>\n",
              "    async function quickchart(key) {\n",
              "      const quickchartButtonEl =\n",
              "        document.querySelector('#' + key + ' button');\n",
              "      quickchartButtonEl.disabled = true;  // To prevent multiple clicks.\n",
              "      quickchartButtonEl.classList.add('colab-df-spinner');\n",
              "      try {\n",
              "        const charts = await google.colab.kernel.invokeFunction(\n",
              "            'suggestCharts', [key], {});\n",
              "      } catch (error) {\n",
              "        console.error('Error during call to suggestCharts:', error);\n",
              "      }\n",
              "      quickchartButtonEl.classList.remove('colab-df-spinner');\n",
              "      quickchartButtonEl.classList.add('colab-df-quickchart-complete');\n",
              "    }\n",
              "    (() => {\n",
              "      let quickchartButtonEl =\n",
              "        document.querySelector('#df-8e98eb1d-47fe-4c98-9864-b61411c5b281 button');\n",
              "      quickchartButtonEl.style.display =\n",
              "        google.colab.kernel.accessAllowed ? 'block' : 'none';\n",
              "    })();\n",
              "  </script>\n",
              "</div>\n",
              "\n",
              "    </div>\n",
              "  </div>\n"
            ],
            "application/vnd.google.colaboratory.intrinsic+json": {
              "type": "dataframe",
              "variable_name": "movies_df",
              "summary": "{\n  \"name\": \"movies_df\",\n  \"rows\": 62423,\n  \"fields\": [\n    {\n      \"column\": \"movieId\",\n      \"properties\": {\n        \"dtype\": \"number\",\n        \"std\": 63264,\n        \"min\": 1,\n        \"max\": 209171,\n        \"num_unique_values\": 62423,\n        \"samples\": [\n          4990,\n          116698,\n          125517\n        ],\n        \"semantic_type\": \"\",\n        \"description\": \"\"\n      }\n    },\n    {\n      \"column\": \"title\",\n      \"properties\": {\n        \"dtype\": \"string\",\n        \"num_unique_values\": 62325,\n        \"samples\": [\n          \"So Dear to My Heart (1949)\",\n          \"Give Me Liberty (2019)\",\n          \"Vice (2015)\"\n        ],\n        \"semantic_type\": \"\",\n        \"description\": \"\"\n      }\n    },\n    {\n      \"column\": \"genres\",\n      \"properties\": {\n        \"dtype\": \"category\",\n        \"num_unique_values\": 1639,\n        \"samples\": [\n          \"Action|Adventure|Crime|Western\",\n          \"Action|Comedy|Drama|Romance|Thriller\",\n          \"Animation|Documentary|Drama|Fantasy\"\n        ],\n        \"semantic_type\": \"\",\n        \"description\": \"\"\n      }\n    }\n  ]\n}"
            }
          },
          "metadata": {},
          "execution_count": 31
        }
      ]
    },
    {
      "cell_type": "code",
      "source": [
        "\n",
        "def get_movie_name_and_id(movie_search_term):\n",
        "  results = []\n",
        "  for movie_id, movie_title in zip(movies_df['movieId'], movies_df['title']):\n",
        "    if movie_search_term.lower() in movie_title.lower():\n",
        "      results.append((movie_title, movie_id))\n",
        "  return results\n"
      ],
      "metadata": {
        "id": "YAeBh0SQaum6"
      },
      "execution_count": 32,
      "outputs": []
    },
    {
      "cell_type": "code",
      "source": [
        "get_movie_name_and_id(\"harry\")"
      ],
      "metadata": {
        "colab": {
          "base_uri": "https://localhost:8080/"
        },
        "id": "4ti_yglFbIfQ",
        "outputId": "509fcfec-500a-4aca-c8be-a116c84fa140"
      },
      "execution_count": 33,
      "outputs": [
        {
          "output_type": "execute_result",
          "data": {
            "text/plain": [
              "[('When Harry Met Sally... (1989)', 1307),\n",
              " ('Deconstructing Harry (1997)', 1701),\n",
              " ('Trouble with Harry, The (1955)', 2184),\n",
              " (\"Who's Harry Crumb? (1989)\", 3387),\n",
              " ('Harry and the Hendersons (1987)', 3388),\n",
              " (\"Let's Get Harry (1986)\", 3389),\n",
              " ('With a Friend Like Harry... (Harry, un ami qui vous veut du bien) (2000)',\n",
              "  4077),\n",
              " ('Dirty Harry (1971)', 4855),\n",
              " (\"Harry Potter and the Sorcerer's Stone (a.k.a. Harry Potter and the Philosopher's Stone) (2001)\",\n",
              "  4896),\n",
              " ('Harry and Walter Go to New York (1976)', 5487),\n",
              " ('Harry Potter and the Chamber of Secrets (2002)', 5816),\n",
              " ('J. Gang Meets Dynamite Harry, The (Jönssonligan & DynamitHarry) (1982)',\n",
              "  6089),\n",
              " ('Dumb and Dumberer: When Harry Met Lloyd (2003)', 6482),\n",
              " ('Harry Potter and the Prisoner of Azkaban (2004)', 8368),\n",
              " ('Harry and Tonto (1974)', 26324),\n",
              " ('Harry Potter and the Goblet of Fire (2005)', 40815),\n",
              " ('Tom, Dick and Harry (1941)', 47397),\n",
              " ('Harry Potter and the Order of the Phoenix (2007)', 54001),\n",
              " ('Harry Potter and the Half-Blood Prince (2009)', 69844),\n",
              " ('Harry Brown (2009)', 74948),\n",
              " ('Who Is Harry Kellerman and Why Is He Saying Those Terrible Things About Me? (1971)',\n",
              "  81615),\n",
              " ('Harry Potter and the Deathly Hallows: Part 1 (2010)', 81834),\n",
              " (\"Who Is Harry Nilsson (And Why Is Everybody Talkin' About Him?) (2010)\",\n",
              "  83332),\n",
              " ('Handsome Harry (2009)', 83385),\n",
              " ('Harry + Max (2004)', 86170),\n",
              " ('Harry Potter and the Deathly Hallows: Part 2 (2011)', 88125),\n",
              " ('Ray Harryhausen: Special Effects Titan (2011)', 109153),\n",
              " ('Plot Against Harry, The (1989)', 112064),\n",
              " ('Harry in Your Pocket (1973)', 124304),\n",
              " ('Harry & Son (1984)', 128199),\n",
              " ('The Harry Hill Movie (2013)', 130349),\n",
              " ('Harry Tracy, Desperado (1982)', 130564),\n",
              " ('Gospel According to Harry (1994)', 130918),\n",
              " ('Harry Dean Stanton: Partly Fiction (2012)', 133381),\n",
              " ('Strange Affair of Uncle Harry, The (1945)', 134372),\n",
              " ('Cherry, Harry & Raquel! (1970)', 137549),\n",
              " (\"Give 'em Hell, Harry! (1975)\", 142612),\n",
              " ('When Harry Tries to Marry (2011)', 149836),\n",
              " ('Harry Munter (1969)', 153248),\n",
              " ('Tom, Dick And Harry (2006)', 153558),\n",
              " ('Kalahari Harry (1994)', 155990),\n",
              " ('Harry Black (1958)', 157909),\n",
              " (\"The Old, Weird America: Harry Smith's Anthology of American Folk Music (2007)\",\n",
              "  158015),\n",
              " (\"Harry's War (1981)\", 158045),\n",
              " ('Harry and the Butler (1961)', 159363),\n",
              " ('Harry & Snowman (2015)', 165685),\n",
              " ('Harry Price: Ghost Hunter (2015)', 171831),\n",
              " ('Harry Benson: Shoot First (2016)', 175801),\n",
              " ('Jab Harry met Sejal (2017)', 176331),\n",
              " ('The Greater Good - Harry Potter Fan Film (2013)', 186777),\n",
              " ('Harry & Meghan: A Royal Romance (2018)', 189427),\n",
              " ('The Secret War of Harry Frigg (1968)', 189529),\n",
              " ('Hollywood Harry (1986)', 208623)]"
            ]
          },
          "metadata": {},
          "execution_count": 33
        }
      ]
    },
    {
      "cell_type": "code",
      "source": [
        "lambda_ = 1\n",
        "gamma = 0.1\n",
        "k = 20\n",
        "tau = 1\n",
        "# dummy_user_data = [(8368,5.0)]\n",
        "dummy_user_data = [(1,5.0)]\n",
        "\n",
        "for i in range(10):\n",
        "  dummy_user_bias = 0\n",
        "  dummy_user_latent = np.zeros(k)\n",
        "  bias = 0\n",
        "  num_movies = 0\n",
        "  for (movie_id, rating) in dummy_user_data:\n",
        "      movie_index = movie_to_id[movie_id]\n",
        "      bias += rating - np.dot(dummy_user_latent ,movies_latent[movie_index]) - movie_biases[movie_index]\n",
        "      # dummy_user_latent += rating * movies_latent[movie_index]\n",
        "      num_movies += 1\n",
        "  dummy_user_bias = (lambda_ * bias)/((lambda_* num_movies)+ gamma)\n",
        "\n",
        "  term2 = np.zeros(k)\n",
        "  term1 = np.zeros((k,k))\n",
        "  c = 0\n",
        "  for (movie_id, rating) in dummy_user_data:\n",
        "      movie_index = movie_to_id[movie_id]\n",
        "      term2 += movies_latent[movie_index] * (rating - movie_biases[movie_index] - dummy_user_bias)\n",
        "      term1 += np.outer(movies_latent[movie_index], movies_latent[movie_index])\n",
        "      c+=1\n",
        "  term2 = lambda_* term2\n",
        "  term1 = lambda_* term1 + (tau * np.identity(k))\n",
        "  dummy_user_latent = np.linalg.solve(term1, term2)\n"
      ],
      "metadata": {
        "id": "ApS9f3GWMBYv"
      },
      "execution_count": 56,
      "outputs": []
    },
    {
      "cell_type": "code",
      "source": [
        "\n",
        "movie_dictionary = dict(zip(movies_df['movieId'], movies_df['title']))"
      ],
      "metadata": {
        "id": "J5dtgKKuQAlP"
      },
      "execution_count": 57,
      "outputs": []
    },
    {
      "cell_type": "code",
      "source": [
        "# Get top recommendations for the dummy user\n",
        "top_n_recommendations = 30  # Number of recommendations to display\n",
        "recommended_movies = []\n",
        "\n",
        "for movie_id, latent_vector in enumerate(movies_latent):\n",
        "    # Calculate predicted rating\n",
        "    predicted_rating = (\n",
        "        0.05* movies_latent[movie_id]\n",
        "        + np.dot(dummy_user_latent, latent_vector)\n",
        "    )\n",
        "\n",
        "    # Add the predicted rating and movie ID to recommendations list\n",
        "    recommended_movies.append((predicted_rating[0], movie_id))\n",
        "\n",
        "# Sort movies by predicted rating in descending order\n",
        "recommended_movies.sort(reverse=True, key=lambda x: x[0])\n",
        "\n",
        "# Display top N recommended movies\n",
        "print(f\"Top {top_n_recommendations} recommended movies for the dummy user:\")\n",
        "for rating, movie_id in recommended_movies[:top_n_recommendations]:\n",
        "    for old, new in movie_to_id.items():\n",
        "      if new == movie_id:\n",
        "        movie_name = old\n",
        "        break\n",
        "    print(f\"Movie ID: {movie_name}    ,      Title: {movie_dictionary[movie_name]}\")"
      ],
      "metadata": {
        "colab": {
          "base_uri": "https://localhost:8080/"
        },
        "id": "Gp9OMxgCQo43",
        "outputId": "44636b56-fed1-4755-b793-c97fd3bc1683"
      },
      "execution_count": 77,
      "outputs": [
        {
          "output_type": "stream",
          "name": "stdout",
          "text": [
            "Top 30 recommended movies for the dummy user:\n",
            "Movie ID: 1    ,      Title: Toy Story (1995)\n",
            "Movie ID: 3114    ,      Title: Toy Story 2 (1999)\n",
            "Movie ID: 78499    ,      Title: Toy Story 3 (2010)\n",
            "Movie ID: 783    ,      Title: Hunchback of Notre Dame, The (1996)\n",
            "Movie ID: 720    ,      Title: Wallace & Gromit: The Best of Aardman Animation (1996)\n",
            "Movie ID: 745    ,      Title: Wallace & Gromit: A Close Shave (1995)\n",
            "Movie ID: 364    ,      Title: Lion King, The (1994)\n",
            "Movie ID: 2355    ,      Title: Bug's Life, A (1998)\n",
            "Movie ID: 1148    ,      Title: Wallace & Gromit: The Wrong Trousers (1993)\n",
            "Movie ID: 595    ,      Title: Beauty and the Beast (1991)\n",
            "Movie ID: 60069    ,      Title: WALL·E (2008)\n",
            "Movie ID: 588    ,      Title: Aladdin (1992)\n",
            "Movie ID: 34    ,      Title: Babe (1995)\n",
            "Movie ID: 4886    ,      Title: Monsters, Inc. (2001)\n",
            "Movie ID: 6377    ,      Title: Finding Nemo (2003)\n",
            "Movie ID: 2294    ,      Title: Antz (1998)\n",
            "Movie ID: 594    ,      Title: Snow White and the Seven Dwarfs (1937)\n",
            "Movie ID: 1573    ,      Title: Face/Off (1997)\n",
            "Movie ID: 596    ,      Title: Pinocchio (1940)\n",
            "Movie ID: 134853    ,      Title: Inside Out (2015)\n",
            "Movie ID: 68954    ,      Title: Up (2009)\n",
            "Movie ID: 3751    ,      Title: Chicken Run (2000)\n",
            "Movie ID: 1223    ,      Title: Grand Day Out with Wallace and Gromit, A (1989)\n",
            "Movie ID: 36    ,      Title: Dead Man Walking (1995)\n",
            "Movie ID: 527    ,      Title: Schindler's List (1993)\n",
            "Movie ID: 4306    ,      Title: Shrek (2001)\n",
            "Movie ID: 2081    ,      Title: Little Mermaid, The (1989)\n",
            "Movie ID: 5669    ,      Title: Bowling for Columbine (2002)\n",
            "Movie ID: 8961    ,      Title: Incredibles, The (2004)\n",
            "Movie ID: 5218    ,      Title: Ice Age (2002)\n"
          ]
        }
      ]
    },
    {
      "cell_type": "code",
      "source": [
        "!git clone https://github.com/A-Midhat/Recommender_system_MF.git"
      ],
      "metadata": {
        "colab": {
          "base_uri": "https://localhost:8080/"
        },
        "id": "7ky8O3gjSjnT",
        "outputId": "3b785fbe-ebfb-4de8-be4c-130de7302ea9"
      },
      "execution_count": 2,
      "outputs": [
        {
          "output_type": "stream",
          "name": "stdout",
          "text": [
            "fatal: destination path 'Recommender_system_MF' already exists and is not an empty directory.\n"
          ]
        }
      ]
    },
    {
      "cell_type": "code",
      "source": [
        "!cp \"Final_Recommender_system(25m).ipynb\" Recommender_system_MF/"
      ],
      "metadata": {
        "colab": {
          "base_uri": "https://localhost:8080/"
        },
        "id": "tPZOuyEYSkXC",
        "outputId": "f6a9208f-ba52-4203-d032-9ff9c687c425"
      },
      "execution_count": 4,
      "outputs": [
        {
          "output_type": "stream",
          "name": "stdout",
          "text": [
            "cp: cannot stat 'Final_Recommender_system(25m).ipynb': No such file or directory\n"
          ]
        }
      ]
    },
    {
      "cell_type": "markdown",
      "source": [],
      "metadata": {
        "id": "M8aYaSpcSJtV"
      }
    }
  ],
  "metadata": {
    "colab": {
      "provenance": [],
      "collapsed_sections": [
        "F54K00ueu_4K",
        "NU12drxrv3Ri",
        "-_WZsz4VciUK",
        "ahHk9kHiqlGH",
        "V-EvS4cUqrCj",
        "zJB16BRTqwxf",
        "RrZZOjt9q2Ky",
        "LDaIjkoJQVmQ",
        "-VgUhOroGv28",
        "vEajDx5SeVU6",
        "Jz32RBzQczns",
        "3AHy8uzMc2XN",
        "xEa6JFOAc5lx",
        "Nv-7MqS4c7sW",
        "BiHQOnIoRFDJ",
        "HmlIKTEACHIf",
        "DrRJbgZaCNng",
        "8L6-Nj9pnQZQ",
        "1ZjVZooErRmJ",
        "rQECWcVLFchP",
        "InJPJxO9FhBR",
        "1dCux6SYFjbi"
      ],
      "include_colab_link": true
    },
    "kernelspec": {
      "display_name": "Python 3",
      "name": "python3"
    },
    "language_info": {
      "name": "python"
    }
  },
  "nbformat": 4,
  "nbformat_minor": 0
}